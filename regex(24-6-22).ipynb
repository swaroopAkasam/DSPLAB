{
 "cells": [
  {
   "cell_type": "code",
   "execution_count": 1,
   "id": "3f5db7b3",
   "metadata": {},
   "outputs": [],
   "source": [
    "# a regular expression is a sequence of characters that forms a search pattern\n",
    "# it is used to check whether a string contains a search pattern"
   ]
  },
  {
   "cell_type": "code",
   "execution_count": 3,
   "id": "64f81517",
   "metadata": {},
   "outputs": [
    {
     "name": "stdout",
     "output_type": "stream",
     "text": [
      "['reg', 'reg']\n"
     ]
    }
   ],
   "source": [
    "import re\n",
    "string = 'this 1 is 2 regular 34 expression 57operations, regular expression or RegEx '\n",
    "x = re.findall('reg', string) # The returned list contains the matches in the order they found\n",
    "print(x)"
   ]
  },
  {
   "cell_type": "code",
   "execution_count": 4,
   "id": "b93a844b",
   "metadata": {},
   "outputs": [
    {
     "name": "stdout",
     "output_type": "stream",
     "text": [
      "[]\n"
     ]
    }
   ],
   "source": [
    "print(re.findall('hello', string)) # No match found"
   ]
  },
  {
   "cell_type": "code",
   "execution_count": 5,
   "id": "05de8044",
   "metadata": {},
   "outputs": [
    {
     "name": "stdout",
     "output_type": "stream",
     "text": [
      "loc of first white space character:  4\n"
     ]
    }
   ],
   "source": [
    "x = re.search('\\s', string)\n",
    "print('loc of first white space character: ', x.start())"
   ]
  },
  {
   "cell_type": "code",
   "execution_count": 6,
   "id": "c82df6a6",
   "metadata": {},
   "outputs": [
    {
     "name": "stdout",
     "output_type": "stream",
     "text": [
      "['this', '1', 'is', '2', 'regular', '34', 'expression', '57operations,', 'regular', 'expression', 'or', 'RegEx', '']\n"
     ]
    }
   ],
   "source": [
    "y = re.split('\\s', string) # List where elements are separated with a space character\n",
    "print(y)"
   ]
  },
  {
   "cell_type": "raw",
   "id": "7df22cca",
   "metadata": {},
   "source": [
    "dd"
   ]
  },
  {
   "cell_type": "code",
   "execution_count": 7,
   "id": "bccad97b",
   "metadata": {},
   "outputs": [
    {
     "name": "stdout",
     "output_type": "stream",
     "text": [
      "['this', '1', 'is 2 regular 34 expression 57operations, regular expression or RegEx ']\n"
     ]
    }
   ],
   "source": [
    "y = re.split('\\s', string, 2) # The third parameter is maxsplit\n",
    "print(y)"
   ]
  },
  {
   "cell_type": "code",
   "execution_count": 8,
   "id": "7ba617b4",
   "metadata": {},
   "outputs": [
    {
     "name": "stdout",
     "output_type": "stream",
     "text": [
      "this@1@is@2@regular@34@expression@57operations,@regular@expression@or@RegEx@\n"
     ]
    }
   ],
   "source": [
    "z = re.sub('\\s', '@', string) # Substituting spaces with @ symbol\n",
    "print(z)"
   ]
  },
  {
   "cell_type": "code",
   "execution_count": 9,
   "id": "9e6d0719",
   "metadata": {},
   "outputs": [
    {
     "name": "stdout",
     "output_type": "stream",
     "text": [
      "this@1@is@2 regular 34 expression 57operations, regular expression or RegEx \n"
     ]
    }
   ],
   "source": [
    "print(re.sub('\\s', '@', string, 3)) # No. of replacements"
   ]
  },
  {
   "cell_type": "code",
   "execution_count": 10,
   "id": "967a5db8",
   "metadata": {},
   "outputs": [
    {
     "name": "stdout",
     "output_type": "stream",
     "text": [
      "(2, 4)\n"
     ]
    }
   ],
   "source": [
    "x = re.search('i\\w+', string)\n",
    "print(x.span())"
   ]
  },
  {
   "cell_type": "code",
   "execution_count": 11,
   "id": "906e6d7c",
   "metadata": {},
   "outputs": [
    {
     "name": "stdout",
     "output_type": "stream",
     "text": [
      "(36, 46)\n"
     ]
    }
   ],
   "source": [
    "x = re.search('op\\w+', string)\n",
    "print(x.span())"
   ]
  },
  {
   "cell_type": "code",
   "execution_count": 12,
   "id": "e548a80e",
   "metadata": {},
   "outputs": [
    {
     "name": "stdout",
     "output_type": "stream",
     "text": [
      "this 1 is 2 regular 34 expression 57operations, regular expression or RegEx \n"
     ]
    }
   ],
   "source": [
    "print(x.string) # Returns the string passed to it"
   ]
  },
  {
   "cell_type": "code",
   "execution_count": 13,
   "id": "b38d13a6",
   "metadata": {},
   "outputs": [
    {
     "name": "stdout",
     "output_type": "stream",
     "text": [
      "is 1 is 2 regular 34 expression 57operations, regular expression or RegEx \n"
     ]
    }
   ],
   "source": [
    "print((x.string)[2:])"
   ]
  },
  {
   "cell_type": "code",
   "execution_count": 20,
   "id": "2d4b3273",
   "metadata": {},
   "outputs": [
    {
     "name": "stdout",
     "output_type": "stream",
     "text": [
      "regular\n"
     ]
    }
   ],
   "source": [
    "import re\n",
    "y = re.search(r'\\bre\\w+', string)\n",
    "print(y.group())"
   ]
  },
  {
   "cell_type": "code",
   "execution_count": null,
   "id": "b52c80b4",
   "metadata": {},
   "outputs": [],
   "source": []
  }
 ],
 "metadata": {
  "kernelspec": {
   "display_name": "Python 3 (ipykernel)",
   "language": "python",
   "name": "python3"
  },
  "language_info": {
   "codemirror_mode": {
    "name": "ipython",
    "version": 3
   },
   "file_extension": ".py",
   "mimetype": "text/x-python",
   "name": "python",
   "nbconvert_exporter": "python",
   "pygments_lexer": "ipython3",
   "version": "3.8.5"
  }
 },
 "nbformat": 4,
 "nbformat_minor": 5
}
